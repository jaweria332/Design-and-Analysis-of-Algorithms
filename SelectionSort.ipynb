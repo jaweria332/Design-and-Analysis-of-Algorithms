{
 "cells": [
  {
   "cell_type": "markdown",
   "metadata": {},
   "source": [
    "# SELECTION SORT"
   ]
  },
  {
   "cell_type": "code",
   "execution_count": 4,
   "metadata": {},
   "outputs": [
    {
     "name": "stdout",
     "output_type": "stream",
     "text": [
      "\u001b[1m                    SELECTION SORT                  \u001b[0m\n",
      "----------------------------------------------------\n",
      "\n",
      "\n",
      "List before sorting : \n",
      "\n",
      "54\n",
      "26\n",
      "93\n",
      "17\n",
      "77\n",
      "31\n",
      "44\n",
      "55\n",
      "20\n",
      "\n",
      "\n",
      "\n",
      "List after sorting : \n",
      "\n",
      "17\n",
      "20\n",
      "26\n",
      "31\n",
      "44\n",
      "54\n",
      "55\n",
      "77\n",
      "93\n"
     ]
    }
   ],
   "source": [
    "def SelectionSort(numList):\n",
    "    for i in range(len(numList)):\n",
    "        min_index = i\n",
    "        for j in range(i+1, len(numList)):\n",
    "            if numList[min_index] > numList[j]:\n",
    "                min_index = j\n",
    "        \n",
    "        #swapping the element\n",
    "        numList[i], numList[min_index] = numList[min_index], numList[i]\n",
    "        \n",
    "        \n",
    "numList = [54, 26, 93, 17, 77, 31, 44, 55, 20]\n",
    "print(\"\\033[1m\" + \"                    SELECTION SORT                  \" + \"\\033[0m\")\n",
    "print(\"----------------------------------------------------\")\n",
    "print(\"\\n\\nList before sorting : \\n\")\n",
    "for i in numList:\n",
    "    print(i)\n",
    "\n",
    "    \n",
    "print(\"\\n\\n\")\n",
    "print(\"List after sorting : \\n\")\n",
    "SelectionSort(numList)\n",
    "for i in numList:\n",
    "    print(i)"
   ]
  }
 ],
 "metadata": {
  "kernelspec": {
   "display_name": "Python 3",
   "language": "python",
   "name": "python3"
  },
  "language_info": {
   "codemirror_mode": {
    "name": "ipython",
    "version": 3
   },
   "file_extension": ".py",
   "mimetype": "text/x-python",
   "name": "python",
   "nbconvert_exporter": "python",
   "pygments_lexer": "ipython3",
   "version": "3.8.3"
  }
 },
 "nbformat": 4,
 "nbformat_minor": 4
}
