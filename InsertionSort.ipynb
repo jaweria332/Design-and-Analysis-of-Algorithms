{
 "cells": [
  {
   "cell_type": "markdown",
   "metadata": {},
   "source": [
    "# INSERTION SORT"
   ]
  },
  {
   "cell_type": "code",
   "execution_count": 4,
   "metadata": {},
   "outputs": [
    {
     "name": "stdout",
     "output_type": "stream",
     "text": [
      "\u001b[1m                    INSERTION SORT                  \u001b[0m\n",
      "----------------------------------------------------\n",
      "\n",
      "\n",
      "\u001b[1mFor Best Case\u001b[0m\n",
      "List before sorting : \n",
      "\n",
      "1\n",
      "2\n",
      "3\n",
      "4\n",
      "5\n",
      "6\n",
      "7\n",
      "8\n",
      "9\n",
      "10\n",
      "\n",
      "List after sorting : \n",
      "\n",
      "1\n",
      "2\n",
      "3\n",
      "4\n",
      "5\n",
      "6\n",
      "7\n",
      "8\n",
      "9\n",
      "10\n",
      "\n",
      "\n",
      "\n",
      "\n",
      "\u001b[1mFor Average Case\u001b[0m\n",
      "List before sorting : \n",
      "\n",
      "33\n",
      "21\n",
      "4\n",
      "90\n",
      "3\n",
      "2\n",
      "10\n",
      "22\n",
      "74\n",
      "92\n",
      "\n",
      "List after sorting : \n",
      "\n",
      "2\n",
      "3\n",
      "4\n",
      "10\n",
      "21\n",
      "22\n",
      "33\n",
      "74\n",
      "90\n",
      "92\n",
      "\n",
      "\n",
      "\n",
      "\n",
      "\u001b[1mFor Worst Case\u001b[0m\n",
      "List before sorting : \n",
      "\n",
      "10\n",
      "9\n",
      "8\n",
      "7\n",
      "6\n",
      "5\n",
      "4\n",
      "3\n",
      "2\n",
      "1\n",
      "\n",
      "List after sorting : \n",
      "\n",
      "1\n",
      "2\n",
      "3\n",
      "4\n",
      "5\n",
      "6\n",
      "7\n",
      "8\n",
      "9\n",
      "10\n"
     ]
    }
   ],
   "source": [
    "def insertionSort(arr): \n",
    "  \n",
    "    # Traverse through 1 to len(arr) \n",
    "    for i in range(1, len(arr)): \n",
    "        key = arr[i] \n",
    "        # Move elements of arr[0..i-1], that are greater than key, to one position ahead of their current position \n",
    "        j = i-1\n",
    "        while j >= 0 and key < arr[j] : \n",
    "                arr[j + 1] = arr[j] \n",
    "                j -= 1\n",
    "        arr[j + 1] = key \n",
    "        \n",
    "\n",
    "print(\"\\033[1m\" + \"                    INSERTION SORT                  \" + \"\\033[0m\")\n",
    "print(\"----------------------------------------------------\")\n",
    "\n",
    "Avgarr = [33,21,4,90,3,2,10,22,74,92]\n",
    "SortedArr = [1,2,3,4,5,6,7,8,9,10]\n",
    "RevSortArr = [10,9,8,7,6,5,4,3,2,1]\n",
    "\n",
    "#For Best case\n",
    "print(\"\\n\\n\\033[1m\" + \"For Best Case\" + \"\\033[0m\")\n",
    "n = len(SortedArr) \n",
    "print(\"List before sorting : \\n\")\n",
    "for i in range(n): \n",
    "    print (\"%d\" %SortedArr[i]), \n",
    "    \n",
    "    \n",
    "    \n",
    "insertionSort(SortedArr) \n",
    "print(\"\\nList after sorting : \\n\")\n",
    "for i in range(n): \n",
    "    print (\"%d\" %SortedArr[i])\n",
    "    \n",
    "print(\"\\n\")\n",
    "\n",
    "\n",
    "#For Average case\n",
    "print(\"\\n\\n\\033[1m\" + \"For Average Case\" + \"\\033[0m\")\n",
    "n = len(Avgarr) \n",
    "print(\"List before sorting : \\n\")\n",
    "for i in range(n): \n",
    "    print (\"%d\" %Avgarr[i])\n",
    "    \n",
    "    \n",
    "    \n",
    "insertionSort(Avgarr) \n",
    "print(\"\\nList after sorting : \\n\")\n",
    "for i in range(n): \n",
    "    print (\"%d\" %Avgarr[i])\n",
    "    \n",
    "print(\"\\n\")\n",
    "    \n",
    "#For worst case\n",
    "print(\"\\n\\n\\033[1m\" + \"For Worst Case\" + \"\\033[0m\")\n",
    "n = len(RevSortArr) \n",
    "print(\"List before sorting : \\n\")\n",
    "for i in range(n): \n",
    "    print (\"%d\" %RevSortArr[i])\n",
    "    \n",
    "    \n",
    "    \n",
    "    \n",
    "insertionSort(RevSortArr) \n",
    "print(\"\\nList after sorting : \\n\")\n",
    "for i in range(n): \n",
    "    print (\"%d\" %RevSortArr[i])"
   ]
  },
  {
   "cell_type": "code",
   "execution_count": 7,
   "metadata": {},
   "outputs": [
    {
     "name": "stdout",
     "output_type": "stream",
     "text": [
      "6.81 µs ± 1.15 µs per loop (mean ± std. dev. of 7 runs, 100000 loops each)\n"
     ]
    }
   ],
   "source": [
    "%timeit insertionSort(Avgarr)"
   ]
  },
  {
   "cell_type": "code",
   "execution_count": 8,
   "metadata": {},
   "outputs": [
    {
     "name": "stdout",
     "output_type": "stream",
     "text": [
      "6.74 µs ± 1.25 µs per loop (mean ± std. dev. of 7 runs, 100000 loops each)\n"
     ]
    }
   ],
   "source": [
    "%timeit insertionSort(SortedArr)"
   ]
  },
  {
   "cell_type": "code",
   "execution_count": 9,
   "metadata": {},
   "outputs": [
    {
     "name": "stdout",
     "output_type": "stream",
     "text": [
      "6.25 µs ± 145 ns per loop (mean ± std. dev. of 7 runs, 100000 loops each)\n"
     ]
    }
   ],
   "source": [
    "%timeit insertionSort(RevSortArr)"
   ]
  }
 ],
 "metadata": {
  "kernelspec": {
   "display_name": "Python 3",
   "language": "python",
   "name": "python3"
  },
  "language_info": {
   "codemirror_mode": {
    "name": "ipython",
    "version": 3
   },
   "file_extension": ".py",
   "mimetype": "text/x-python",
   "name": "python",
   "nbconvert_exporter": "python",
   "pygments_lexer": "ipython3",
   "version": "3.8.3"
  }
 },
 "nbformat": 4,
 "nbformat_minor": 4
}
