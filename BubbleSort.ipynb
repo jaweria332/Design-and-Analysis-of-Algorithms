{
 "cells": [
  {
   "cell_type": "markdown",
   "metadata": {},
   "source": [
    "# BUBBLE SORT ALGORITHM"
   ]
  },
  {
   "cell_type": "code",
   "execution_count": 2,
   "metadata": {},
   "outputs": [
    {
     "name": "stdout",
     "output_type": "stream",
     "text": [
      "\u001b[1m                    BUBBLE SORT                  \u001b[0m\n",
      "-------------------------------------------------\n",
      "\n",
      "\n",
      "List before sorting : \n",
      "\n",
      "54\n",
      "26\n",
      "93\n",
      "17\n",
      "77\n",
      "31\n",
      "44\n",
      "55\n",
      "20\n",
      "\n",
      "\n",
      "List after sorting : \n",
      "\n",
      "17\n",
      "20\n",
      "26\n",
      "31\n",
      "44\n",
      "54\n",
      "55\n",
      "77\n",
      "93\n"
     ]
    }
   ],
   "source": [
    "def bubble_sort(array):\n",
    "    index = len(array) - 1\n",
    "    while index >= 0:\n",
    "        for j in range(index):\n",
    "            if array[j] > array[j+1]:\n",
    "                array[j], array[j+1] = array[j+1], array[j]\n",
    "        index -= 1\n",
    "    return array\n",
    "\n",
    "\n",
    "\n",
    "print(\"\\033[1m\" + \"                    BUBBLE SORT                  \" + \"\\033[0m\")\n",
    "print(\"-------------------------------------------------\")\n",
    "num = [54, 26, 93, 17, 77, 31, 44, 55, 20]\n",
    "n = len(num) \n",
    "print(\"\\n\\nList before sorting : \\n\")\n",
    "for i in range(n): \n",
    "    print (\"%d\" %num[i])\n",
    "    \n",
    "    \n",
    "    \n",
    "bubble_sort(num) \n",
    "print(\"\\n\\nList after sorting : \\n\")\n",
    "for i in range(n): \n",
    "    print (\"%d\" %num[i])\n"
   ]
  },
  {
   "cell_type": "code",
   "execution_count": 10,
   "metadata": {},
   "outputs": [
    {
     "name": "stdout",
     "output_type": "stream",
     "text": [
      "19.3 µs ± 3.02 µs per loop (mean ± std. dev. of 7 runs, 100000 loops each)\n",
      "[1, 2, 3, 4, 5, 6, 7, 8, 9, 10]\n",
      "\n",
      "\n",
      "18.8 µs ± 2.28 µs per loop (mean ± std. dev. of 7 runs, 100000 loops each)\n",
      "[1, 2, 3, 4, 9, 10, 11, 12, 23, 34]\n",
      "\n",
      "\n",
      "21.1 µs ± 5.18 µs per loop (mean ± std. dev. of 7 runs, 100000 loops each)\n",
      "[1, 2, 3, 4, 5, 6, 7, 8, 9, 10]\n",
      "\n",
      "\n"
     ]
    }
   ],
   "source": [
    "listAsc = [1,2,3,4,5,6,7,8,9,10]\n",
    "listDec = [10, 9,8,7,6,5,4,3,2,1]\n",
    "\n",
    "#For worst case\n",
    "%timeit bubble_sort(listDec)\n",
    "print(bubble_sort(listDec))\n",
    "print(\"\\n\")\n",
    "\n",
    "#For average case\n",
    "%timeit bubble_sort(num)\n",
    "print(bubble_sort(num))\n",
    "print(\"\\n\")\n",
    "\n",
    "#For best case\n",
    "%timeit bubble_sort(listAsc)\n",
    "print(bubble_sort(listAsc))\n",
    "print(\"\\n\")"
   ]
  },
  {
   "cell_type": "code",
   "execution_count": null,
   "metadata": {},
   "outputs": [],
   "source": []
  }
 ],
 "metadata": {
  "kernelspec": {
   "display_name": "Python 3",
   "language": "python",
   "name": "python3"
  },
  "language_info": {
   "codemirror_mode": {
    "name": "ipython",
    "version": 3
   },
   "file_extension": ".py",
   "mimetype": "text/x-python",
   "name": "python",
   "nbconvert_exporter": "python",
   "pygments_lexer": "ipython3",
   "version": "3.8.3"
  }
 },
 "nbformat": 4,
 "nbformat_minor": 4
}
