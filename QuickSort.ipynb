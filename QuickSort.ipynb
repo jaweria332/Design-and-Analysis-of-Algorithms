{
 "cells": [
  {
   "cell_type": "markdown",
   "metadata": {},
   "source": [
    "# QUICK SORT ALGORITHM"
   ]
  },
  {
   "cell_type": "code",
   "execution_count": 4,
   "metadata": {},
   "outputs": [
    {
     "name": "stdout",
     "output_type": "stream",
     "text": [
      "\u001b[1m                    QUICK SORT                  \u001b[0m\n",
      "-------------------------------------------------\n",
      "\n",
      "\n",
      "List before sorting : \n",
      "\n",
      "54\n",
      "26\n",
      "93\n",
      "17\n",
      "77\n",
      "31\n",
      "44\n",
      "55\n",
      "20\n",
      "\n",
      "\n",
      "List after sorting : \n",
      "\n",
      "17\n",
      "20\n",
      "26\n",
      "31\n",
      "44\n",
      "54\n",
      "55\n",
      "77\n",
      "93\n"
     ]
    }
   ],
   "source": [
    "def pivot(arr, low, high):\n",
    "    i = (low - 1)\n",
    "    myPivot = arr[high]\n",
    "    for x in range(low, high):\n",
    "        if arr[x] <= myPivot:\n",
    "            i+=1\n",
    "            arr[i], arr[x] = arr[x], arr[i]\n",
    "            \n",
    "    arr[i + 1], arr[high] = arr[high], arr[i + 1]\n",
    "    \n",
    "    return i+1\n",
    "\n",
    "\n",
    "def QuickSort(arr, low, high):\n",
    "    if len(arr) == 1:\n",
    "        return arr\n",
    "    if low < high:\n",
    "        pi = pivot(arr, low, high)\n",
    "        QuickSort(arr, low, pi-1)\n",
    "        QuickSort(arr, pi+1, high)\n",
    "        \n",
    "        \n",
    "        \n",
    "print(\"\\033[1m\" + \"                    QUICK SORT                  \" + \"\\033[0m\")\n",
    "print(\"-------------------------------------------------\")\n",
    "num = [54, 26, 93, 17, 77, 31, 44, 55, 20]\n",
    "n = len(num) \n",
    "print(\"\\n\\nList before sorting : \\n\")\n",
    "for i in range(n): \n",
    "    print (\"%d\" %num[i])\n",
    "    \n",
    "    \n",
    "    \n",
    "QuickSort(num, 0, n-1) \n",
    "print(\"\\n\\nList after sorting : \\n\")\n",
    "for i in range(n): \n",
    "    print (\"%d\" %num[i])\n"
   ]
  },
  {
   "cell_type": "code",
   "execution_count": null,
   "metadata": {},
   "outputs": [],
   "source": []
  }
 ],
 "metadata": {
  "kernelspec": {
   "display_name": "Python 3",
   "language": "python",
   "name": "python3"
  },
  "language_info": {
   "codemirror_mode": {
    "name": "ipython",
    "version": 3
   },
   "file_extension": ".py",
   "mimetype": "text/x-python",
   "name": "python",
   "nbconvert_exporter": "python",
   "pygments_lexer": "ipython3",
   "version": "3.8.3"
  }
 },
 "nbformat": 4,
 "nbformat_minor": 4
}
