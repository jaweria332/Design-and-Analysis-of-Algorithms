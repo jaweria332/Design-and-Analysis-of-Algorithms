{
 "cells": [
  {
   "cell_type": "markdown",
   "metadata": {},
   "source": [
    "# SHELL SORT"
   ]
  },
  {
   "cell_type": "code",
   "execution_count": 5,
   "metadata": {},
   "outputs": [
    {
     "name": "stdout",
     "output_type": "stream",
     "text": [
      "\u001b[1m                    SHELL SORT                  \u001b[0m\n",
      "----------------------------------------------------\n",
      "\n",
      "\n",
      "List before sorting : \n",
      "\n",
      "54\n",
      "26\n",
      "93\n",
      "17\n",
      "77\n",
      "31\n",
      "44\n",
      "55\n",
      "20\n",
      "\n",
      "\n",
      "\n",
      "List after sorting : \n",
      "\n",
      "17\n",
      "20\n",
      "26\n",
      "31\n",
      "44\n",
      "54\n",
      "55\n",
      "77\n",
      "93\n"
     ]
    }
   ],
   "source": [
    "def ShellSort(alist):\n",
    "    n = len(alist)//2\n",
    "    while n > 0:\n",
    "        for i in range(n):\n",
    "            gap_InsertionSort(alist, i, n)\n",
    "            \n",
    "        n = n//2\n",
    "        \n",
    "def gap_InsertionSort(alist, start, gap):\n",
    "    for i in range(start + gap, len(alist), gap):\n",
    "        cur_val = alist[i]\n",
    "        pos = i\n",
    "        \n",
    "        while pos >=gap and alist[pos - gap] > cur_val:\n",
    "            alist[pos] = alist[pos - gap]\n",
    "            pos = pos - gap\n",
    "            \n",
    "        alist[pos] = cur_val\n",
    "\n",
    "        \n",
    "        \n",
    "        \n",
    "numList = [54, 26, 93, 17, 77, 31, 44, 55, 20]\n",
    "print(\"\\033[1m\" + \"                    SHELL SORT                  \" + \"\\033[0m\")\n",
    "print(\"----------------------------------------------------\")\n",
    "print(\"\\n\\nList before sorting : \\n\")\n",
    "for i in numList:\n",
    "    print(i)\n",
    "\n",
    "    \n",
    "print(\"\\n\\n\")\n",
    "print(\"List after sorting : \\n\")\n",
    "ShellSort(numList)\n",
    "for i in numList:\n",
    "    print(i)"
   ]
  },
  {
   "cell_type": "code",
   "execution_count": null,
   "metadata": {},
   "outputs": [],
   "source": []
  }
 ],
 "metadata": {
  "kernelspec": {
   "display_name": "Python 3",
   "language": "python",
   "name": "python3"
  },
  "language_info": {
   "codemirror_mode": {
    "name": "ipython",
    "version": 3
   },
   "file_extension": ".py",
   "mimetype": "text/x-python",
   "name": "python",
   "nbconvert_exporter": "python",
   "pygments_lexer": "ipython3",
   "version": "3.8.3"
  }
 },
 "nbformat": 4,
 "nbformat_minor": 4
}
